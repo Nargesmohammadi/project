{
 "cells": [
  {
   "cell_type": "markdown",
   "id": "735b3efa",
   "metadata": {},
   "source": [
    "Clothing ID: Integer Categorical variable that refers to the specific piece being reviewed.\n",
    "\n",
    "Age: Positive Integer variable of the reviewers age.\n",
    "\n",
    "Title: String variable for the title of the review.\n",
    "\n",
    "Review Text: String variable for the review body.\n",
    "\n",
    "Rating: Positive Ordinal Integer variable for the product score granted by the customer from 1 Worst, to 5 Best.\n",
    "\n",
    "Recommended IND: Binary variable stating where the customer recommends the product where 1 is recommended, 0 is not recommended.\n",
    "\n",
    "Positive Feedback Count: Positive Integer documenting the number of other customers who found this review positive.\n",
    "\n",
    "Division Name: Categorical name of the product high level division.\n",
    "\n",
    "Department Name: Categorical name of the product department name.\n",
    "\n",
    "Class Name: Categorical name of the product class name.\n"
   ]
  },
  {
   "cell_type": "code",
   "execution_count": 7,
   "id": "3d6b8b91",
   "metadata": {},
   "outputs": [],
   "source": [
    "import pandas as pd\n",
    "import numpy as np\n",
    "import matplotlib.pyplot as plt\n",
    "import seaborn as sns\n",
    "%matplotlib inline"
   ]
  },
  {
   "cell_type": "code",
   "execution_count": 6,
   "id": "258a8846",
   "metadata": {},
   "outputs": [],
   "source": [
    "data = pd.read_csv(\"/home/mitraa/Jupyter Notebook/archive(1)/Womens Clothing E-Commerce Reviews.csv\")"
   ]
  },
  {
   "cell_type": "code",
   "execution_count": null,
   "id": "45c78016",
   "metadata": {},
   "outputs": [],
   "source": []
  }
 ],
 "metadata": {
  "kernelspec": {
   "display_name": "Python 3 (ipykernel)",
   "language": "python",
   "name": "python3"
  },
  "language_info": {
   "codemirror_mode": {
    "name": "ipython",
    "version": 3
   },
   "file_extension": ".py",
   "mimetype": "text/x-python",
   "name": "python",
   "nbconvert_exporter": "python",
   "pygments_lexer": "ipython3",
   "version": "3.9.7"
  }
 },
 "nbformat": 4,
 "nbformat_minor": 5
}
